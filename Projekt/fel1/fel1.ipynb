{
 "cells": [
  {
   "cell_type": "markdown",
   "id": "499a6ca7",
   "metadata": {},
   "source": [
    "# Naive Bayes és Logisztikus regresszió alkalmazása multiklasszifkációs problémára"
   ]
  },
  {
   "cell_type": "markdown",
   "id": "6ccc29bd",
   "metadata": {},
   "source": [
    "## Feladat rövid leírása\n",
    "A feladat során a stack-overflow-data-small.csv felhasználásával mutatom be a Naive Bayes és logisztikus regresszió alkalmazását. \n",
    "\n",
    "A megfelelő adatisztási feladatok elvégzésvel a nagyobb méretű adathalmazon:\n",
    "- Naive Bayes: 0.73683\n",
    "- Logisztikus regresszió: 0.793\n",
    "\n",
    "A kisebb méretű adathalmazon:\n",
    "- Naive Bayes: 0.706667\n",
    "- Logisztikus regresszió: 0.76958333\n",
    "\n",
    "pontosságot sikerült elérnem."
   ]
  },
  {
   "cell_type": "markdown",
   "id": "29992076",
   "metadata": {},
   "source": [
    "## Adatok előkészítése"
   ]
  },
  {
   "cell_type": "markdown",
   "id": "f6bee8b2",
   "metadata": {},
   "source": [
    "### Importok"
   ]
  },
  {
   "cell_type": "code",
   "execution_count": null,
   "id": "f6b4fcfe",
   "metadata": {},
   "outputs": [],
   "source": [
    "import pandas as pd\n",
    "import numpy as np\n",
    "import matplotlib.pyplot as plt\n",
    "import re\n",
    "from nltk.corpus import stopwords\n",
    "from bs4 import BeautifulSoup\n",
    "import warnings\n",
    "warnings.filterwarnings(\"ignore\", category=UserWarning, module='bs4')\n",
    "from sklearn.model_selection import train_test_split\n",
    "#Bayes\n",
    "from sklearn.naive_bayes import MultinomialNB\n",
    "from sklearn.pipeline import Pipeline\n",
    "from sklearn.feature_extraction.text import CountVectorizer, TfidfTransformer\n",
    "from sklearn.metrics import accuracy_score, classification_report\n",
    "#Logstic regression\n",
    "from sklearn.linear_model import LogisticRegression"
   ]
  },
  {
   "cell_type": "markdown",
   "id": "39ed5c9b",
   "metadata": {},
   "source": [
    "### Nyers adat beolvasása"
   ]
  },
  {
   "cell_type": "code",
   "execution_count": null,
   "id": "e56a0215",
   "metadata": {},
   "outputs": [],
   "source": [
    "df = pd.read_csv('../data/stack-overflow-data-small.csv')\n",
    "df = df[pd.notnull(df['tags'])]\n",
    "df.head(10)"
   ]
  },
  {
   "cell_type": "markdown",
   "id": "66dfedea",
   "metadata": {},
   "source": [
    "##### Szövegtisztítás előtti szavak száma"
   ]
  },
  {
   "cell_type": "code",
   "execution_count": null,
   "id": "c1a176b0",
   "metadata": {},
   "outputs": [],
   "source": [
    "df['post'].apply(lambda x: len(x.split(' '))).sum()"
   ]
  },
  {
   "cell_type": "markdown",
   "id": "36881a41",
   "metadata": {},
   "source": [
    "### Oszlopdiagram az adatokban lévő osztályok eloszlásáról\n",
    "Az eredeteti adathalmazomban az egyes csoportok egyenlő számban tartalmaztak elemeket az osztályokhoz, azaz az adathalmaz jól kiegyensúlyozottnak tekinthető.  \n",
    "A kisméretű fájl esetén kis eltérés van az adott adathalmaz osztályainak számában, de még közel hasonlóak, így az adathalmaz elfogadhatóan kiegyensúlyozottnak tekinthető."
   ]
  },
  {
   "cell_type": "code",
   "execution_count": null,
   "id": "e5456604",
   "metadata": {},
   "outputs": [],
   "source": [
    "my_tags = ['java','html','asp.net','c#','ruby-on-rails','jquery','mysql','php','ios','javascript',\n",
    "           'python','c','css','android','iphone','sql','objective-c','c++','angularjs','.net']\n",
    "plt.figure(figsize=(15,5))\n",
    "df.tags.value_counts().plot(kind='bar')"
   ]
  },
  {
   "cell_type": "markdown",
   "id": "4088a239",
   "metadata": {},
   "source": [
    "### Szövegtisztítás"
   ]
  },
  {
   "cell_type": "markdown",
   "id": "af5f2de3",
   "metadata": {},
   "source": [
    "##### Szövegellenőrzés, melyből megállapítható, hogy miket kell eltávolítani(tisztítani)"
   ]
  },
  {
   "cell_type": "code",
   "execution_count": null,
   "id": "cadcf605",
   "metadata": {},
   "outputs": [],
   "source": [
    "def text_show(index):\n",
    "    row = df[df.index == index][['post', 'tags']].values[0]\n",
    "    if len(row) > 0:\n",
    "        print(row[0])\n",
    "        print('Tag:', row[1])"
   ]
  },
  {
   "cell_type": "code",
   "execution_count": null,
   "id": "a7874b0e",
   "metadata": {},
   "outputs": [],
   "source": [
    "text_show(5)"
   ]
  },
  {
   "cell_type": "markdown",
   "id": "c80e1c20",
   "metadata": {},
   "source": [
    "### Szövegtisztítás:\n",
    "- html tagek\n",
    "- kisbetűssé alakítás\n",
    "- rossz szimbólumok törlése\n",
    "- egyéb szimbólumok helyettesítése space-szel\n",
    "- stopwordok eltávolítása"
   ]
  },
  {
   "cell_type": "code",
   "execution_count": null,
   "id": "6d7e8350",
   "metadata": {},
   "outputs": [],
   "source": [
    "replaceWithSpace = re.compile('[/(){}\\[\\]\\|@,;]') #re: reguláris kifejezés\n",
    "BadSymbols = re.compile('[^0-9a-z #+_]') # ^:ami nincs benne a megadott tartományban\n",
    "STOPWORDS = set(stopwords.words('english'))\n",
    "\n",
    "def clean_text(text):\n",
    "    text = BeautifulSoup(text, \"html.parser\").text \n",
    "    text = text.lower()\n",
    "    text = BadSymbols.sub('', text)\n",
    "    text = replaceWithSpace.sub(' ', text) \n",
    "    text = ' '.join(word for word in text.split() if word not in STOPWORDS)\n",
    "    return text\n",
    "\n",
    "df['post'] = df['post'].apply(clean_text)"
   ]
  },
  {
   "cell_type": "markdown",
   "id": "919f2163",
   "metadata": {},
   "source": [
    "##### Tisztított szöveg eredmény"
   ]
  },
  {
   "cell_type": "code",
   "execution_count": null,
   "id": "57a7f6bc",
   "metadata": {},
   "outputs": [],
   "source": [
    "text_show(5)"
   ]
  },
  {
   "cell_type": "markdown",
   "id": "127a4a0b",
   "metadata": {},
   "source": [
    "##### A tisztítás után megmaradt szavak száma"
   ]
  },
  {
   "cell_type": "code",
   "execution_count": null,
   "id": "32d542cc",
   "metadata": {},
   "outputs": [],
   "source": [
    "df['post'].apply(lambda x: len(x.split(' '))).sum()"
   ]
  },
  {
   "cell_type": "markdown",
   "id": "d6e19fc6",
   "metadata": {},
   "source": [
    "### Az adatok train, és teszt adathalmazra való bontása"
   ]
  },
  {
   "cell_type": "code",
   "execution_count": null,
   "id": "4fcd51af",
   "metadata": {},
   "outputs": [],
   "source": [
    "X = df.post\n",
    "y = df.tags\n",
    "X_train, X_test, y_train, y_test = train_test_split(X, y, test_size=0.3, random_state = 42)"
   ]
  },
  {
   "cell_type": "markdown",
   "id": "515205ea",
   "metadata": {},
   "source": [
    "# Miért is jó a Scikit-Learn(Sklearn) könyvtár:\n",
    "#### Az Sklearn az egyik legrobosztusabb, és leghasznosabb gépi tanulási könyvtár. \n",
    "- Hatékony eszközöket kínál a statisztikai modellezéshez, beleértve az osztályozást, a regressziót, a klaszterezést és a dimenziócsökkentést is, ezért ebben a feladatban is a Sklearnt használom."
   ]
  },
  {
   "cell_type": "markdown",
   "id": "e872d3e9",
   "metadata": {},
   "source": [
    "## Naive Bayes"
   ]
  },
  {
   "cell_type": "markdown",
   "id": "15879311",
   "metadata": {},
   "source": [
    "##### https://scikit-learn.org/stable/modules/generated/sklearn.naive_bayes.MultinomialNB.html"
   ]
  },
  {
   "cell_type": "code",
   "execution_count": null,
   "id": "4b1dc308",
   "metadata": {},
   "outputs": [],
   "source": [
    "nb = Pipeline([('vect', CountVectorizer()),\n",
    "               ('tfidf', TfidfTransformer()),\n",
    "               ('clf', MultinomialNB()),\n",
    "              ])\n",
    "nb.fit(X_train, y_train)\n",
    "\n",
    "y_pred = nb.predict(X_test)\n",
    "\n",
    "print('accuracy %s' % accuracy_score(y_pred, y_test))\n",
    "print(classification_report(y_test, y_pred,target_names=my_tags))"
   ]
  },
  {
   "cell_type": "markdown",
   "id": "13cff25e",
   "metadata": {},
   "source": [
    "## Logisztikus regresszió"
   ]
  },
  {
   "cell_type": "markdown",
   "id": "5f026a68",
   "metadata": {},
   "source": [
    "##### https://scikit-learn.org/stable/modules/generated/sklearn.linear_model.LogisticRegression.html"
   ]
  },
  {
   "cell_type": "markdown",
   "id": "f7968769",
   "metadata": {},
   "source": [
    "### A legjobb solver megtalálása\n",
    "Erre azért van szükség, mert az adathalmazhoz fontos megtalálni a leggyorsabb, és legköltséghatékonyabb solvert. Maga a solver azt jelentené, hogy milyen technikát alkalmazunk a logisztikus regresszió megvalósításához.\n",
    "\n",
    "#### Alapvetően a dokumentáció a következő ajánlásokat teszi:\n",
    "- For small datasets, ‘liblinear’ is a good choice, whereas ‘sag’ and ‘saga’ are faster for large ones;\n",
    "- For multiclass problems, only ‘newton-cg’, ‘sag’, ‘saga’ and ‘lbfgs’ handle multinomial loss;\n",
    "- ‘liblinear’ is limited to one-versus-rest schemes."
   ]
  },
  {
   "cell_type": "markdown",
   "id": "41de9135",
   "metadata": {},
   "source": [
    "### Időteszt\n",
    "A multiclassifikációs problémáknál ‘newton-cg’, ‘sag’, ‘saga’ ‘lbfgs’ solver tudja kezelni a veszteséget.\n",
    "Ezért ezen solverekre tesztelem, hogy melyik lenne a legopcionálisabb:"
   ]
  },
  {
   "cell_type": "code",
   "execution_count": null,
   "id": "19356405",
   "metadata": {},
   "outputs": [],
   "source": [
    "import time\n",
    "# Solvers\n",
    "solvers = ['sag', 'saga', 'newton-cg', 'lbfgs']\n",
    "\n",
    "for sol in solvers: \n",
    "    start = time.time()\n",
    "    logreg = Pipeline([('vect', CountVectorizer()),\n",
    "                ('tfidf', TfidfTransformer()),\n",
    "                ('clf', LogisticRegression(n_jobs=2, C=1, solver=sol)),\n",
    "                ])\n",
    "    logreg.fit(X_train, y_train)\n",
    "    end = time.time()\n",
    "    print(sol + \" Fit Time: \",end-start)"
   ]
  },
  {
   "cell_type": "markdown",
   "id": "2a047a25",
   "metadata": {},
   "source": [
    "Az eredmény magyarázata:\n",
    "- sag, saga: \n",
    "    - A nagymennyiségű adathoz ajánlott.\n",
    "    - a sag továbbfejlesztése a saga.\n",
    "- newton-cg: \n",
    "    - Hesse-mátrixot használ:\n",
    "       - egy többváltozós valós függvény másodrendű parciális deriváltjaiból alkot négyzetes mátrixot.\n",
    "    - Éppen a másodrendű deriválás miatt lassú nagymennyiségű adatnál a solver.\n",
    "- lbfgs:\n",
    "    - Limited-memory Broyden–Fletcher–Goldfarb–Shanno: Az utolsó pár értéket tárolja, a memóriaspórólás miatt.\n",
    "    - Gradiens kiértékelésekkel közelíti a második derivált mátrix frissítéseket. => lassú.\n"
   ]
  },
  {
   "cell_type": "code",
   "execution_count": null,
   "id": "86b88acc",
   "metadata": {},
   "outputs": [],
   "source": [
    "logreg = Pipeline([('vect', CountVectorizer()),\n",
    "                ('tfidf', TfidfTransformer()),\n",
    "                ('clf', LogisticRegression(n_jobs=2, C=1, solver='sag')),\n",
    "               ])\n",
    "logreg.fit(X_train, y_train)\n",
    "\n",
    "y_pred = logreg.predict(X_test)\n",
    "\n",
    "print('accuracy %s' % accuracy_score(y_pred, y_test))\n",
    "print(classification_report(y_test, y_pred,target_names=my_tags))"
   ]
  }
 ],
 "metadata": {
  "kernelspec": {
   "display_name": "Python 3 (ipykernel)",
   "language": "python",
   "name": "python3"
  },
  "language_info": {
   "codemirror_mode": {
    "name": "ipython",
    "version": 3
   },
   "file_extension": ".py",
   "mimetype": "text/x-python",
   "name": "python",
   "nbconvert_exporter": "python",
   "pygments_lexer": "ipython3",
   "version": "3.9.12"
  },
  "vscode": {
   "interpreter": {
    "hash": "ebea179ef8fdcbd2aa43d9bd91dc4d1ed954db93e6ffd62d5add28363de32395"
   }
  }
 },
 "nbformat": 4,
 "nbformat_minor": 5
}
