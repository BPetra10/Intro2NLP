{
 "cells": [
  {
   "cell_type": "markdown",
   "id": "2de40f0b",
   "metadata": {},
   "source": [
    "# LDA és TSNE bemutatása"
   ]
  },
  {
   "cell_type": "markdown",
   "id": "ed3a0f98",
   "metadata": {},
   "source": [
    "## Feladat rövid leírása\n",
    "A feladat során a kisméretű, newsgroups-small.json felhasználásával mutatom be az LDA és TSNE vizualizációs technikákat.\n",
    "\n",
    "Az eredeti (nagyobb) adathalmaz megtalálható:\n",
    "https://www.kaggle.com/datasets/crawford/20-newsgroups/code"
   ]
  },
  {
   "cell_type": "markdown",
   "id": "64be2b45",
   "metadata": {},
   "source": [
    "## Adatok előkészítése"
   ]
  },
  {
   "cell_type": "markdown",
   "id": "f6c29659",
   "metadata": {},
   "source": [
    "### Importok, installok"
   ]
  },
  {
   "cell_type": "code",
   "execution_count": null,
   "id": "60ca8954",
   "metadata": {
    "scrolled": true
   },
   "outputs": [],
   "source": [
    "import numpy as np\n",
    "import pandas as pd\n",
    "import re\n",
    "!pip install gensim\n",
    "!pip install spacy\n",
    "!pip install bokeh\n",
    "import gensim, spacy\n",
    "from gensim.utils import simple_preprocess\n",
    "import gensim.corpora as corpora\n",
    "from pprint import pprint\n",
    "from nltk.corpus import stopwords\n",
    "stop_words = stopwords.words('english')\n",
    "stop_words.extend(['from', 'subject', 're', 'edu', 'use', 'not', 'would', 'say', 'could', \n",
    "                   '_', 'be', 'know', 'good', 'go', 'get', 'do', 'done', 'try', 'many', \n",
    "                   'some', 'nice', 'thank', 'think', 'see', 'rather', 'easy', 'easily', \n",
    "                   'lot', 'lack', 'make', 'want', 'seem', 'run', 'need', 'even', 'right', \n",
    "                   'line', 'even', 'also', 'may', 'take', 'come'])\n",
    "\n",
    "!python -m spacy download en_core_web_sm\n",
    "\n",
    "#LDA-hoz install, import\n",
    "!pip install pyLDAvis\n",
    "import pyLDAvis.gensim_models\n",
    "\n",
    "#TSNE\n",
    "from sklearn.manifold import TSNE\n",
    "from bokeh.plotting import figure, output_file, show\n",
    "from bokeh.models import Label\n",
    "from bokeh.io import output_notebook\n",
    "import matplotlib.colors as mcolors\n",
    "\n",
    "import warnings\n",
    "warnings.filterwarnings(\"ignore\")"
   ]
  },
  {
   "cell_type": "markdown",
   "id": "2f864de8",
   "metadata": {},
   "source": [
    "### Nyers adat beolvasása"
   ]
  },
  {
   "cell_type": "code",
   "execution_count": null,
   "id": "b045122c",
   "metadata": {},
   "outputs": [],
   "source": [
    "df = pd.read_json('../data/newsgroups-small.json')\n",
    "df = df.loc[df.target_names.isin(['comp.sys.mac.hardware', 'rec.sport.hockey', 'talk.politics.guns', 'rec.autos']),:]\n",
    "print(df.shape)\n",
    "df.head()"
   ]
  },
  {
   "cell_type": "markdown",
   "id": "4149ffb5",
   "metadata": {},
   "source": [
    "### Szövegtisztítás\n",
    "- emailek eltávolítása\n",
    "- newline karakterek eltávolítása\n",
    "- ' ' idézőjelek eltávolítása"
   ]
  },
  {
   "cell_type": "code",
   "execution_count": null,
   "id": "1690f4c2",
   "metadata": {},
   "outputs": [],
   "source": [
    "def sent_to_words(sentences):\n",
    "    for sent in sentences:\n",
    "        sent = re.sub('\\\\S*@\\\\S*\\\\s?', '', sent) \n",
    "        sent = re.sub('\\\\s+', ' ', sent)  \n",
    "        sent = re.sub(\"\\\\'\", \"\", sent) \n",
    "        sent = gensim.utils.simple_preprocess(str(sent), deacc=True) \n",
    "        yield(sent)  "
   ]
  },
  {
   "cell_type": "markdown",
   "id": "39db03f4",
   "metadata": {},
   "source": [
    "#### Listává konvertálás, első sor kiíratása"
   ]
  },
  {
   "cell_type": "code",
   "execution_count": null,
   "id": "ef4d9ab8",
   "metadata": {},
   "outputs": [],
   "source": [
    "data = df.content.values.tolist()\n",
    "data_words = list(sent_to_words(data))\n",
    "print(data_words[:1])"
   ]
  },
  {
   "cell_type": "markdown",
   "id": "e09164b5",
   "metadata": {},
   "source": [
    "### Bigram és trigam modell felépítése"
   ]
  },
  {
   "cell_type": "code",
   "execution_count": null,
   "id": "917c9b55",
   "metadata": {},
   "outputs": [],
   "source": [
    "bigram = gensim.models.Phrases(data_words, min_count=5, threshold=100)\n",
    "trigram = gensim.models.Phrases(bigram[data_words], threshold=100)  \n",
    "bigram_mod = gensim.models.phrases.Phraser(bigram)\n",
    "trigram_mod = gensim.models.phrases.Phraser(trigram)"
   ]
  },
  {
   "cell_type": "markdown",
   "id": "ea543ca9",
   "metadata": {},
   "source": [
    "### Stopwordok eltávolítása a Bigram és Trigam modellekből, lemmatizáció"
   ]
  },
  {
   "cell_type": "code",
   "execution_count": null,
   "id": "62c3cd96",
   "metadata": {},
   "outputs": [],
   "source": [
    "def process_words(texts, stop_words=stop_words, allowed_postags=['NOUN', 'ADJ', 'VERB', 'ADV']):\n",
    "    texts = [[word for word in simple_preprocess(str(doc)) if word not in stop_words] for doc in texts]\n",
    "    texts = [bigram_mod[doc] for doc in texts]\n",
    "    texts = [trigram_mod[bigram_mod[doc]] for doc in texts]\n",
    "    texts_out = []\n",
    "    nlp = spacy.load('en_core_web_sm')\n",
    "    for sent in texts:\n",
    "        doc = nlp(\" \".join(sent)) \n",
    "        texts_out.append([token.lemma_ for token in doc if token.pos_ in allowed_postags])\n",
    "    # stopword eltávolítása a lemmatizáció után(a biztonság kedvéért)\n",
    "    texts_out = [[word for word in simple_preprocess(str(doc)) if word not in stop_words] for doc in texts_out]    \n",
    "    return texts_out\n",
    "\n",
    "data_ready = process_words(data_words)"
   ]
  },
  {
   "cell_type": "markdown",
   "id": "125648a5",
   "metadata": {},
   "source": [
    "### Szótárkészítés"
   ]
  },
  {
   "cell_type": "code",
   "execution_count": null,
   "id": "a63dad6b",
   "metadata": {},
   "outputs": [],
   "source": [
    "id2word = corpora.Dictionary(data_ready)"
   ]
  },
  {
   "cell_type": "markdown",
   "id": "6ff1f803",
   "metadata": {},
   "source": [
    "### Corpus létrehozása a kifejezések gyakoriságához"
   ]
  },
  {
   "cell_type": "code",
   "execution_count": null,
   "id": "4c1f4fd6",
   "metadata": {},
   "outputs": [],
   "source": [
    "corpus = [id2word.doc2bow(text) for text in data_ready]"
   ]
  },
  {
   "cell_type": "markdown",
   "id": "cd379f91",
   "metadata": {},
   "source": [
    "# LDA "
   ]
  },
  {
   "cell_type": "code",
   "execution_count": null,
   "id": "ef6457ac",
   "metadata": {},
   "outputs": [],
   "source": [
    "lda_model = gensim.models.ldamodel.LdaModel(corpus=corpus,\n",
    "                                           id2word=id2word,\n",
    "                                           num_topics=4, \n",
    "                                           random_state=100,\n",
    "                                           update_every=1,\n",
    "                                           chunksize=10,\n",
    "                                           passes=10,\n",
    "                                           alpha='symmetric',\n",
    "                                           iterations=100,\n",
    "                                           per_word_topics=True)"
   ]
  },
  {
   "cell_type": "markdown",
   "id": "2c49f694",
   "metadata": {},
   "source": [
    "## LDA témáinak kiíratása"
   ]
  },
  {
   "cell_type": "code",
   "execution_count": null,
   "id": "b8b63482",
   "metadata": {},
   "outputs": [],
   "source": [
    "pprint(lda_model.print_topics())"
   ]
  },
  {
   "cell_type": "markdown",
   "id": "7a264189",
   "metadata": {},
   "source": [
    "## LDA vizualizáció"
   ]
  },
  {
   "cell_type": "code",
   "execution_count": null,
   "id": "8c576697",
   "metadata": {},
   "outputs": [],
   "source": [
    "pyLDAvis.enable_notebook()\n",
    "vis = pyLDAvis.gensim_models.prepare(lda_model, corpus, dictionary=lda_model.id2word)\n",
    "vis"
   ]
  },
  {
   "cell_type": "markdown",
   "id": "b3176f15",
   "metadata": {},
   "source": [
    "#### Témaeloszlások (topic weights)"
   ]
  },
  {
   "cell_type": "code",
   "execution_count": null,
   "id": "977fcac5",
   "metadata": {},
   "outputs": [],
   "source": [
    "topic_weights = []\n",
    "for i, row_list in enumerate(lda_model[corpus]):\n",
    "    topic_weights.append([w for i, w in row_list[0]])"
   ]
  },
  {
   "cell_type": "markdown",
   "id": "5fc9d931",
   "metadata": {},
   "source": [
    "#### Tömb a témaeloszlásokról"
   ]
  },
  {
   "cell_type": "code",
   "execution_count": null,
   "id": "b4d9806b",
   "metadata": {},
   "outputs": [],
   "source": [
    "arr = pd.DataFrame(topic_weights).fillna(0).values"
   ]
  },
  {
   "cell_type": "markdown",
   "id": "04cfcbe2",
   "metadata": {},
   "source": [
    "#### Jól elszeparált pontok megőrzése"
   ]
  },
  {
   "cell_type": "code",
   "execution_count": null,
   "id": "e748a4f5",
   "metadata": {},
   "outputs": [],
   "source": [
    "arr = arr[np.amax(arr, axis=1) > 0.35]"
   ]
  },
  {
   "cell_type": "markdown",
   "id": "6b364166",
   "metadata": {},
   "source": [
    "#### A kiemelkedő témák számának meghatározása"
   ]
  },
  {
   "cell_type": "code",
   "execution_count": null,
   "id": "cb9fdaf3",
   "metadata": {},
   "outputs": [],
   "source": [
    "topic_num = np.argmax(arr, axis=1)"
   ]
  },
  {
   "cell_type": "markdown",
   "id": "c26a9bc8",
   "metadata": {},
   "source": [
    "## TSNE"
   ]
  },
  {
   "cell_type": "markdown",
   "id": "20d3e70d",
   "metadata": {},
   "source": [
    "#### Dimenzió redukció"
   ]
  },
  {
   "cell_type": "code",
   "execution_count": null,
   "id": "3db85ad8",
   "metadata": {},
   "outputs": [],
   "source": [
    "tsne_model = TSNE(n_components=2, verbose=1, perplexity=40, n_iter=300, init='pca')\n",
    "tsne_lda = tsne_model.fit_transform(arr)"
   ]
  },
  {
   "cell_type": "markdown",
   "id": "98084d4f",
   "metadata": {},
   "source": [
    "#### Téma clusterek kirajzolása Bokeh-val"
   ]
  },
  {
   "cell_type": "code",
   "execution_count": null,
   "id": "6f096dd3",
   "metadata": {},
   "outputs": [],
   "source": [
    "output_notebook()\n",
    "n_topics = 4\n",
    "mycolors = np.array([color for name, color in mcolors.TABLEAU_COLORS.items()])\n",
    "plot = figure(title=\"t-SNE Clustering az {} LDA Témákról\".format(n_topics))\n",
    "plot.scatter(x=tsne_lda[:,0], y=tsne_lda[:,1], color=mycolors[topic_num])\n",
    "show(plot)"
   ]
  }
 ],
 "metadata": {
  "kernelspec": {
   "display_name": "Python 3 (ipykernel)",
   "language": "python",
   "name": "python3"
  },
  "language_info": {
   "codemirror_mode": {
    "name": "ipython",
    "version": 3
   },
   "file_extension": ".py",
   "mimetype": "text/x-python",
   "name": "python",
   "nbconvert_exporter": "python",
   "pygments_lexer": "ipython3",
   "version": "3.9.12"
  },
  "vscode": {
   "interpreter": {
    "hash": "ebea179ef8fdcbd2aa43d9bd91dc4d1ed954db93e6ffd62d5add28363de32395"
   }
  }
 },
 "nbformat": 4,
 "nbformat_minor": 5
}
