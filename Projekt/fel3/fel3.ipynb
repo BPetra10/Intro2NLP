{
 "cells": [
  {
   "cell_type": "markdown",
   "id": "f3447416",
   "metadata": {},
   "source": [
    "# LSTM multiklasszifikációs problémára"
   ]
  },
  {
   "cell_type": "markdown",
   "id": "da17c5d2",
   "metadata": {},
   "source": [
    "## Feladat rövid leírása\n",
    "A feladat során a uci-news-aggregator-small.csv felhasználásával mutatom be az LSTM alkalmazását. \n",
    "- Az eredeti, nagyobb méretű adathalmaznál a Test set eredménye 3 epoch esetén:\n",
    "  - Loss: 0.299\n",
    "  - Accuracy: 0.896\n",
    "- A kisméretű fájlnál a Test set eredménye 10 epoch esetén:\n",
    "  - Loss: 0.382\n",
    "  - Accuracy: 0.873\n",
    "  \n",
    "Az eredeti adathalmaz megtalálható:\n",
    "https://www.kaggle.com/datasets/uciml/news-aggregator-dataset"
   ]
  },
  {
   "cell_type": "markdown",
   "id": "26a3c07d",
   "metadata": {},
   "source": [
    "## Adatok előkészítése"
   ]
  },
  {
   "cell_type": "markdown",
   "id": "87c897e9",
   "metadata": {},
   "source": [
    "### Importok"
   ]
  },
  {
   "cell_type": "code",
   "execution_count": null,
   "id": "fd9355e1",
   "metadata": {},
   "outputs": [],
   "source": [
    "import numpy as np \n",
    "import pandas as pd \n",
    "from keras.layers import Dense, Embedding, LSTM, SpatialDropout1D\n",
    "from keras.models import Sequential\n",
    "from sklearn.feature_extraction.text import CountVectorizer\n",
    "from keras.preprocessing.text import Tokenizer\n",
    "from keras.utils import pad_sequences\n",
    "from sklearn.model_selection import train_test_split\n",
    "from keras.utils.np_utils import to_categorical\n",
    "from keras.callbacks import EarlyStopping"
   ]
  },
  {
   "cell_type": "markdown",
   "id": "f6c5003d",
   "metadata": {},
   "source": [
    "### Nyers adat beolvasása\n",
    "Az adathalmazból a title és category oszlopokat használom fel.\n",
    "- TITLE : Az adott cikknek a címe.\n",
    "- KATEGÓRIA : a hír kategóriáját írja le.\n",
    "    - b: üzlet\n",
    "    - t: tudomány és technika\n",
    "    - e: szórakozás\n",
    "    - m: egészség"
   ]
  },
  {
   "cell_type": "code",
   "execution_count": null,
   "id": "7fb1e63b",
   "metadata": {},
   "outputs": [],
   "source": [
    "data = pd.read_csv('../data/uci-news-aggregator-small.csv', usecols=['TITLE', 'CATEGORY'])"
   ]
  },
  {
   "cell_type": "markdown",
   "id": "6d6fc528",
   "metadata": {},
   "source": [
    "##### Megnézzük, hogy az adott szövegben a kategóriák kiegyensúlyoztottak-e"
   ]
  },
  {
   "cell_type": "code",
   "execution_count": null,
   "id": "15957bee",
   "metadata": {},
   "outputs": [],
   "source": [
    "data.CATEGORY.value_counts()"
   ]
  },
  {
   "cell_type": "markdown",
   "id": "d062676e",
   "metadata": {},
   "source": [
    "#### Adatok kiegyensúlyozottá tétele"
   ]
  },
  {
   "cell_type": "code",
   "execution_count": null,
   "id": "06bc02ee",
   "metadata": {},
   "outputs": [],
   "source": [
    "num_of_categories = 45000\n",
    "shuffled = data.reindex(np.random.permutation(data.index))\n",
    "e = shuffled[shuffled['CATEGORY'] == 'e'][:num_of_categories]\n",
    "b = shuffled[shuffled['CATEGORY'] == 'b'][:num_of_categories]\n",
    "t = shuffled[shuffled['CATEGORY'] == 't'][:num_of_categories]\n",
    "m = shuffled[shuffled['CATEGORY'] == 'm'][:num_of_categories]\n",
    "concated = pd.concat([e,b,t,m], ignore_index=True)\n",
    "#Shuffle the dataset\n",
    "concated = concated.reindex(np.random.permutation(concated.index)) #get the indexes of a DataFrame as a list\n",
    "concated['LABEL'] = 0"
   ]
  },
  {
   "cell_type": "code",
   "execution_count": null,
   "id": "a4f7c74d",
   "metadata": {},
   "outputs": [],
   "source": [
    "concated.CATEGORY.value_counts()"
   ]
  },
  {
   "cell_type": "markdown",
   "id": "9f6f0ce9",
   "metadata": {},
   "source": [
    "### One hot-encoding"
   ]
  },
  {
   "cell_type": "markdown",
   "id": "ee4e4a9b",
   "metadata": {},
   "source": [
    "- Kategorikus jellemzők feldolgozására használjuk. \n",
    "- Ez a típusú kódolás új bináris jellemzőt hoz létre minden lehetséges kategóriához,  \n",
    "és 1-es értéket rendel minden minta azon jellemzőjéhez, amely megfelel az eredeti kategóriájának.\n",
    "- N darab elem esetén a k-adik elem one hot reprezentációja:[ 0 0 0 ... 1 ... 0]\n",
    "- A névleges/szöveges kategoriális adatokat számértékekkel rendelkező jellemzőkké alakítja.\n",
    "\n",
    "| Jellemző |                     \n",
    "|  :---:   |\n",
    "| Alma     | \n",
    "| Körte    |\n",
    "| Körte    | \n",
    "| Alma     |\n",
    "\n",
    "\n",
    "<div align=\"center\">Encode után:</div>\n",
    "\n",
    "| Alma    | Körte | \n",
    "| :---:   | :----:| \n",
    "| 1       | 0     |\n",
    "| 0       | 1     | \n",
    "| 0       | 1     | \n",
    "| 1       |   0   | \n",
    "   "
   ]
  },
  {
   "cell_type": "code",
   "execution_count": null,
   "id": "2ddcae7c",
   "metadata": {},
   "outputs": [],
   "source": [
    "concated.loc[concated['CATEGORY'] == 'e', 'LABEL'] = 0\n",
    "concated.loc[concated['CATEGORY'] == 'b', 'LABEL'] = 1\n",
    "concated.loc[concated['CATEGORY'] == 't', 'LABEL'] = 2\n",
    "concated.loc[concated['CATEGORY'] == 'm', 'LABEL'] = 3\n",
    "print(concated['LABEL'][:10])\n",
    "labels = to_categorical(concated['LABEL'], num_classes=4)\n",
    "print(labels[:10])\n",
    "if 'CATEGORY' in concated.keys():\n",
    "    concated.drop(['CATEGORY'], axis=1)"
   ]
  },
  {
   "cell_type": "markdown",
   "id": "4a88e75c",
   "metadata": {},
   "source": [
    "### Adatok előfeldolgozása\n",
    "Kiszedjük a szövegből a filterben felsorolt nem elfogadott karaktereket, és a lowerrel kisbetűssé tesszük.  \n",
    "- fit_on_texts: \n",
    "  - Szógyakoriság alapján hozza létre a szótár indexeit.\n",
    "  - szó->index szótár, minden szó egyedi indexet kap.\n",
    "  - Pl: \"The cat sat on the mat.\" A szótára: word_index[\"the\"] = 1; word_index[\"cat\"] = 2 ...\n",
    "- texts_to_sequences:\n",
    "  - Minden egyes szót átvesz a szövegben, és lecseréli a megfelelő egész értékre a word_index szótárból.\n",
    "- word_index: \n",
    "  - megadja az elkészített vektor hosszát."
   ]
  },
  {
   "cell_type": "code",
   "execution_count": null,
   "id": "76bb8d89",
   "metadata": {},
   "outputs": [],
   "source": [
    "max_features = 4000\n",
    "max_len = 100\n",
    "tokenizer = Tokenizer(num_words=max_features, filters='!\"#$%&()*+,-./:;<=>?@[\\]^_`{|}~', lower=True)\n",
    "tokenizer.fit_on_texts(concated['TITLE'].values)\n",
    "sequences = tokenizer.texts_to_sequences(concated['TITLE'].values)\n",
    "\n",
    "word_index = tokenizer.word_index\n",
    "print('Found %s unique tokens.' % len(word_index))\n",
    "\n",
    "X = pad_sequences(sequences, maxlen=max_len)"
   ]
  },
  {
   "cell_type": "markdown",
   "id": "19599d32",
   "metadata": {},
   "source": [
    "### Az adatok train és teszt adathalmazra bontása"
   ]
  },
  {
   "cell_type": "code",
   "execution_count": null,
   "id": "9c05f0c6",
   "metadata": {},
   "outputs": [],
   "source": [
    "X_train, X_test, y_train, y_test = train_test_split(X , labels, test_size=0.25, random_state=42)"
   ]
  },
  {
   "cell_type": "markdown",
   "id": "3e080f40",
   "metadata": {},
   "source": [
    "### A modell megvalósítása"
   ]
  },
  {
   "cell_type": "code",
   "execution_count": null,
   "id": "2d9b6fa5",
   "metadata": {},
   "outputs": [],
   "source": [
    "epochs = 10 \n",
    "emb_dim = 32\n",
    "batch_size = 32\n",
    "labels[:2]"
   ]
  },
  {
   "cell_type": "code",
   "execution_count": null,
   "id": "f7e02a54",
   "metadata": {},
   "outputs": [],
   "source": [
    "model = Sequential()\n",
    "model.add(Embedding(max_features, emb_dim, input_length=max_len))\n",
    "model.add(SpatialDropout1D(0.7))\n",
    "model.add(LSTM(64, dropout=0.7, recurrent_dropout=0.7))\n",
    "model.add(Dense(4, activation='softmax'))\n",
    "model.compile(optimizer='adam', loss='categorical_crossentropy', metrics=['acc'])\n",
    "\n",
    "print(model.summary())\n",
    "history = model.fit(X_train, y_train, epochs=epochs, batch_size=batch_size,validation_split=0.2,\n",
    "                    callbacks=[EarlyStopping(monitor='val_loss',patience=2)])"
   ]
  },
  {
   "cell_type": "markdown",
   "id": "6a1bf742",
   "metadata": {},
   "source": [
    "#### Az elért eredmény pontossága"
   ]
  },
  {
   "cell_type": "code",
   "execution_count": null,
   "id": "d557d655",
   "metadata": {},
   "outputs": [],
   "source": [
    "accr = model.evaluate(X_test,y_test)\n",
    "print('Test set\\n  Loss: {:0.3f}\\n  Accuracy: {:0.3f}'.format(accr[0],accr[1]))"
   ]
  },
  {
   "cell_type": "markdown",
   "id": "5f56a99a",
   "metadata": {},
   "source": [
    "### A tanulási és validációs pontosság, veszteség ábrázolása "
   ]
  },
  {
   "cell_type": "code",
   "execution_count": null,
   "id": "d6effc54",
   "metadata": {},
   "outputs": [],
   "source": [
    "import matplotlib.pyplot as plt\n",
    "\n",
    "acc = history.history['acc']\n",
    "val_acc = history.history['val_acc']\n",
    "loss = history.history['loss']\n",
    "val_loss = history.history['val_loss']\n",
    "\n",
    "epochs = range(1, len(acc) + 1)\n",
    "\n",
    "plt.plot(epochs, acc, 'g', label='Training acc')\n",
    "plt.plot(epochs, val_acc, 'b', label='Validation acc')\n",
    "plt.title('Training and validation accuracy')\n",
    "plt.ylabel('value')\n",
    "plt.xlabel('No. epoch')\n",
    "plt.legend()\n",
    "\n",
    "plt.figure()\n",
    "\n",
    "plt.plot(epochs, loss, 'g', label='Training loss')\n",
    "plt.plot(epochs, val_loss, 'b', label='Validation loss')\n",
    "plt.title('Training and validation loss')\n",
    "plt.ylabel('value')\n",
    "plt.xlabel('No. epoch')\n",
    "plt.legend()\n",
    "\n",
    "plt.show()"
   ]
  },
  {
   "cell_type": "markdown",
   "id": "6b5cc73c",
   "metadata": {},
   "source": [
    "### A modell tesztelése txt bemenetekre\n",
    "Megpróbáljuk a modellel megjósolni, hogy az adott mondatok melyik kategóriába fognak tartozni: \n",
    "- üzlet \n",
    "- tudomány \n",
    "- szórakozás\n",
    "- egészség"
   ]
  },
  {
   "cell_type": "markdown",
   "id": "b9e96e9f",
   "metadata": {},
   "source": [
    "Az 1. szöveg fordítása: a cukros üdítők súlygyarapodáshoz vezetnek.   \n",
    "A várt kategória:health.        "
   ]
  },
  {
   "cell_type": "code",
   "execution_count": null,
   "id": "1f9efe60",
   "metadata": {},
   "outputs": [],
   "source": [
    "txt = [\"Sugar-sweetened beverages are associated with weight gain.\"]\n",
    "seq = tokenizer.texts_to_sequences(txt)\n",
    "padded = pad_sequences(seq, maxlen=max_len)\n",
    "pred = model.predict(padded)\n",
    "labels = ['entertainment', 'bussiness', 'science/tech', 'health']\n",
    "print(pred, labels[np.argmax(pred)])"
   ]
  },
  {
   "cell_type": "markdown",
   "id": "260fd9fe",
   "metadata": {},
   "source": [
    "A 2. szöveg fordítása: A COD játékkal játszani szórakoztató.   \n",
    "A várt kategória:entertaintment.    "
   ]
  },
  {
   "cell_type": "code",
   "execution_count": null,
   "id": "7235baf1",
   "metadata": {},
   "outputs": [],
   "source": [
    "txt = [\"Playing with COD is fun.\"]\n",
    "seq = tokenizer.texts_to_sequences(txt)\n",
    "padded = pad_sequences(seq, maxlen=max_len)\n",
    "pred = model.predict(padded)\n",
    "labels = ['entertainment', 'bussiness', 'science/tech', 'health']\n",
    "print(pred, labels[np.argmax(pred)])"
   ]
  },
  {
   "cell_type": "markdown",
   "id": "4960fab1",
   "metadata": {},
   "source": [
    "A 3. szöveg fordítása:Eladásra kerülhet a Manchester United, a világ egyik legnagyobb futballklubja.  \n",
    "A várt kategória: business. "
   ]
  },
  {
   "cell_type": "code",
   "execution_count": null,
   "id": "e9c8c4d0",
   "metadata": {},
   "outputs": [],
   "source": [
    "txt = [\"Manchester United, is potentially up for sale.\"]\n",
    "seq = tokenizer.texts_to_sequences(txt)\n",
    "padded = pad_sequences(seq, maxlen=max_len)\n",
    "pred = model.predict(padded)\n",
    "labels = ['entertainment', 'bussiness', 'science/tech', 'health']\n",
    "print(pred, labels[np.argmax(pred)])"
   ]
  },
  {
   "cell_type": "markdown",
   "id": "fc3e42be",
   "metadata": {},
   "source": [
    "A 4. szöveg fordítása:A Meta létrehozott egy mesterséges intelligencia-algoritmust, amely képes legyőzni az embereket a Diplomácia nevű társasjátékban.  \n",
    "A várt kategória: science/tech. "
   ]
  },
  {
   "cell_type": "code",
   "execution_count": null,
   "id": "876228ea",
   "metadata": {},
   "outputs": [],
   "source": [
    "txt = [\"Meta created an AI algorithm that can beat beat humans in the board game Diplomacy.\"]\n",
    "seq = tokenizer.texts_to_sequences(txt)\n",
    "padded = pad_sequences(seq, maxlen=max_len)\n",
    "pred = model.predict(padded)\n",
    "labels = ['entertainment', 'bussiness', 'science/tech', 'health']\n",
    "print(pred, labels[np.argmax(pred)])"
   ]
  }
 ],
 "metadata": {
  "kernelspec": {
   "display_name": "Python 3 (ipykernel)",
   "language": "python",
   "name": "python3"
  },
  "language_info": {
   "codemirror_mode": {
    "name": "ipython",
    "version": 3
   },
   "file_extension": ".py",
   "mimetype": "text/x-python",
   "name": "python",
   "nbconvert_exporter": "python",
   "pygments_lexer": "ipython3",
   "version": "3.9.12"
  }
 },
 "nbformat": 4,
 "nbformat_minor": 5
}
